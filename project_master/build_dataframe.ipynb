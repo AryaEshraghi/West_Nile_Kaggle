{
  "cells": [
    {
      "cell_type": "code",
      "source": [
        "import pandas as pd\n",
        "from sklearn.pipeline import Pipeline\n",
        "from sklearn.pipeline import make_pipeline\n",
        "from transformers import *\n",
        "\n",
        "p = '/Users/numlaut/dsi/projects/7.0 project 4/West_Nile_Kaggle/assets/input/'\n",
        "spraydf =pd.read_csv(p+'spray.csv')\n",
        "traindf =pd.read_csv(p+'train.csv')\n",
        "coefdf = pd.read_csv(p+'train_w_coefs.csv')\n",
        "ktestdf = pd.read_csv(p+'test.csv')\n",
        "weatherdf = pd.read_csv(p+'weatherengineered.csv')"
      ],
      "outputs": [],
      "execution_count": 15,
      "metadata": {
        "collapsed": false,
        "outputHidden": false,
        "inputHidden": false
      }
    },
    {
      "cell_type": "code",
      "source": [
        "import time\n",
        "def date_to_utc(x):\n",
        "    return int(time.mktime(time.strptime(x,'%Y-%m-%d')))\n",
        "\n",
        "def utc_to_date(x):\n",
        "    return time.strftime('%Y-%m-%d',time.gmtime(x))\n",
        "\n",
        "def submit(yhat,name='model'):\n",
        "    submit = pd.DataFrame(yhat,columns=['WnvPresent'])\n",
        "    submit.index +=1\n",
        "    submit.index.name = 'Id'\n",
        "    submit.to_csv(str('./results_'+name+'.csv'))\n",
        "    return submit['WnvPresent'].value_counts()"
      ],
      "outputs": [],
      "execution_count": 16,
      "metadata": {
        "collapsed": false,
        "outputHidden": false,
        "inputHidden": false
      }
    },
    {
      "cell_type": "code",
      "source": [
        "print(traindf.columns)"
      ],
      "outputs": [
        {
          "output_type": "stream",
          "name": "stdout",
          "text": [
            "Index(['Date', 'Address', 'Species', 'Block', 'Street', 'Trap',\n",
            "       'AddressNumberAndStreet', 'Latitude', 'Longitude', 'AddressAccuracy',\n",
            "       'NumMosquitos', 'WnvPresent'],\n",
            "      dtype='object')\n"
          ]
        }
      ],
      "execution_count": 17,
      "metadata": {
        "collapsed": false,
        "outputHidden": false,
        "inputHidden": false
      }
    },
    {
      "cell_type": "code",
      "source": [
        "# date_to_utc defined above\n",
        "utc = ColumnMapper(func=date_to_utc,column='date',name='utc',drop=False) # keep 'date' column and utc"
      ],
      "outputs": [],
      "execution_count": 18,
      "metadata": {
        "collapsed": false,
        "outputHidden": false,
        "inputHidden": false
      }
    },
    {
      "cell_type": "code",
      "source": [
        "## building weatherdf ##\n",
        "#selection station 1 data\n",
        "#mask = (weatherdf['Station']==1)\n",
        "\n",
        "# compile with renaming\n",
        "weather = weatherdf.rename(columns={'Date':'date'})\n",
        "\n",
        "#weather processing\n",
        "pipe = []\n",
        "pipe.append(('utc',utc))\n",
        "\n",
        "#transform w/pipe\n",
        "prep_weather = Pipeline(pipe)\n",
        "weather = prep_weather.fit_transform(weather)"
      ],
      "outputs": [],
      "execution_count": 19,
      "metadata": {
        "collapsed": false,
        "outputHidden": false,
        "inputHidden": false
      }
    },
    {
      "cell_type": "code",
      "source": [
        "weather.shape"
      ],
      "outputs": [
        {
          "output_type": "execute_result",
          "execution_count": 20,
          "data": {
            "text/plain": [
              "(1472, 86)"
            ]
          },
          "metadata": {}
        }
      ],
      "execution_count": 20,
      "metadata": {
        "collapsed": false,
        "outputHidden": false,
        "inputHidden": false
      }
    },
    {
      "cell_type": "code",
      "source": [
        "## building train df ##\n",
        "\n",
        "# define renamed columns\n",
        "rn = {}\n",
        "rn['Date']='date'\n",
        "rn['Latitude']='lat'\n",
        "rn['Longitude']='long'\n",
        "rn['AddressNumberAndStreet']='address'\n",
        "rn['Species']='species'\n",
        "\n",
        "# define selected columns\n",
        "feats = 'date address species lat long'.split()\n",
        "\n",
        "# define y\n",
        "target = 'WnvPresent'.split()\n",
        "\n",
        "# compile with renaming\n",
        "train = traindf.rename(columns=rn)[ feats + target ] #y included\n",
        "ktest = ktestdf.rename(columns=rn)[feats]"
      ],
      "outputs": [],
      "execution_count": 21,
      "metadata": {
        "collapsed": false,
        "outputHidden": false,
        "inputHidden": false
      }
    },
    {
      "cell_type": "code",
      "source": [
        "train.shape"
      ],
      "outputs": [
        {
          "output_type": "execute_result",
          "execution_count": 22,
          "data": {
            "text/plain": [
              "(10506, 6)"
            ]
          },
          "metadata": {}
        }
      ],
      "execution_count": 22,
      "metadata": {
        "collapsed": false,
        "outputHidden": false,
        "inputHidden": false
      }
    },
    {
      "cell_type": "code",
      "source": [
        "## define transformations ##\n",
        "\n",
        "# loc\n",
        "from collections import namedtuple\n",
        "coord = namedtuple('coordinate',['lat','long'])\n",
        "loc = ColumnApplier(lambda row: coord(row['lat'],row['long']), name='loc', axis=1)\n",
        "\n",
        "# date_to_utc defined above\n",
        "utc = ColumnMapper(func=date_to_utc,column='date',name='utc',drop=False) # keep 'date' column and utc\n",
        "\n",
        "#merge w/weather from weatherdf by DATE\n",
        "merge_weather = DfMerger(weather,on=['utc','date'],how='left',copy=True,validate='m:1')\n",
        "\n",
        "#dummy trap locations\n",
        "dummy_address = DummyEncoder(column='address')\n",
        "\n",
        "#dummy species\n",
        "dummy_species = DummyEncoder(column='species')\n",
        "\n",
        "#drop stuff we hate\n",
        "drop_us = 'lat long loc utc date 2007 2008 2009 2010 2011 2012 2013 2014'.split()\n",
        "drop_columns = ColumnSelector(columns=drop_us,drop=True)"
      ],
      "outputs": [],
      "execution_count": 23,
      "metadata": {
        "collapsed": false,
        "outputHidden": false,
        "inputHidden": false
      }
    },
    {
      "cell_type": "code",
      "source": [
        "#feature prep\n",
        "pipe = []\n",
        "pipe.append(('loc',loc))\n",
        "pipe.append(('utc',utc))\n",
        "pipe.append(('merge_weather',merge_weather))\n",
        "pipe.append(('dummy_species',dummy_species))\n",
        "pipe.append(('dummy_address',dummy_address))\n",
        "pipe.append(('drop_columns',drop_columns))\n",
        "prep_features = Pipeline(pipe)"
      ],
      "outputs": [],
      "execution_count": 24,
      "metadata": {
        "collapsed": false,
        "outputHidden": false,
        "inputHidden": false
      }
    },
    {
      "cell_type": "code",
      "source": [
        "#build sets\n",
        "t = prep_features.fit_transform(train) #for training\n",
        "k = prep_features.transform(ktest) #for kaggle submission\n",
        "Xk = k\n",
        "\n",
        "#define X and y\n",
        "y = t[target].values.ravel()\n",
        "X = t.drop(target,axis=1)\n",
        "\n",
        "feats = list(train.columns)#recatalogue cols for later use if necessary\n",
        "\n",
        "#train test split\n",
        "Xtrain,Xtest,ytrain,ytest = train_test_split(X,y,stratify=y)"
      ],
      "outputs": [
        {
          "output_type": "error",
          "ename": "AttributeError",
          "evalue": "'DummyEncoder' object has no attribute 'dummies'",
          "traceback": [
            "\u001b[0;31m---------------------------------------------------------------------------\u001b[0m",
            "\u001b[0;31mAttributeError\u001b[0m                            Traceback (most recent call last)",
            "\u001b[0;32m<ipython-input-25-fece9125bfe7>\u001b[0m in \u001b[0;36m<module>\u001b[0;34m()\u001b[0m\n\u001b[1;32m      1\u001b[0m \u001b[0;31m#build sets\u001b[0m\u001b[0;34m\u001b[0m\u001b[0;34m\u001b[0m\u001b[0m\n\u001b[0;32m----> 2\u001b[0;31m \u001b[0mt\u001b[0m \u001b[0;34m=\u001b[0m \u001b[0mprep_features\u001b[0m\u001b[0;34m.\u001b[0m\u001b[0mfit_transform\u001b[0m\u001b[0;34m(\u001b[0m\u001b[0mtrain\u001b[0m\u001b[0;34m)\u001b[0m \u001b[0;31m#for training\u001b[0m\u001b[0;34m\u001b[0m\u001b[0m\n\u001b[0m\u001b[1;32m      3\u001b[0m \u001b[0mk\u001b[0m \u001b[0;34m=\u001b[0m \u001b[0mprep_features\u001b[0m\u001b[0;34m.\u001b[0m\u001b[0mtransform\u001b[0m\u001b[0;34m(\u001b[0m\u001b[0mktest\u001b[0m\u001b[0;34m)\u001b[0m \u001b[0;31m#for kaggle submission\u001b[0m\u001b[0;34m\u001b[0m\u001b[0m\n\u001b[1;32m      4\u001b[0m \u001b[0mXk\u001b[0m \u001b[0;34m=\u001b[0m \u001b[0mk\u001b[0m\u001b[0;34m\u001b[0m\u001b[0m\n\u001b[1;32m      5\u001b[0m \u001b[0;34m\u001b[0m\u001b[0m\n",
            "\u001b[0;32m/anaconda3/lib/python3.6/site-packages/sklearn/pipeline.py\u001b[0m in \u001b[0;36mfit_transform\u001b[0;34m(self, X, y, **fit_params)\u001b[0m\n\u001b[1;32m    279\u001b[0m         \"\"\"\n\u001b[1;32m    280\u001b[0m         \u001b[0mlast_step\u001b[0m \u001b[0;34m=\u001b[0m \u001b[0mself\u001b[0m\u001b[0;34m.\u001b[0m\u001b[0m_final_estimator\u001b[0m\u001b[0;34m\u001b[0m\u001b[0m\n\u001b[0;32m--> 281\u001b[0;31m         \u001b[0mXt\u001b[0m\u001b[0;34m,\u001b[0m \u001b[0mfit_params\u001b[0m \u001b[0;34m=\u001b[0m \u001b[0mself\u001b[0m\u001b[0;34m.\u001b[0m\u001b[0m_fit\u001b[0m\u001b[0;34m(\u001b[0m\u001b[0mX\u001b[0m\u001b[0;34m,\u001b[0m \u001b[0my\u001b[0m\u001b[0;34m,\u001b[0m \u001b[0;34m**\u001b[0m\u001b[0mfit_params\u001b[0m\u001b[0;34m)\u001b[0m\u001b[0;34m\u001b[0m\u001b[0m\n\u001b[0m\u001b[1;32m    282\u001b[0m         \u001b[0;32mif\u001b[0m \u001b[0mhasattr\u001b[0m\u001b[0;34m(\u001b[0m\u001b[0mlast_step\u001b[0m\u001b[0;34m,\u001b[0m \u001b[0;34m'fit_transform'\u001b[0m\u001b[0;34m)\u001b[0m\u001b[0;34m:\u001b[0m\u001b[0;34m\u001b[0m\u001b[0m\n\u001b[1;32m    283\u001b[0m             \u001b[0;32mreturn\u001b[0m \u001b[0mlast_step\u001b[0m\u001b[0;34m.\u001b[0m\u001b[0mfit_transform\u001b[0m\u001b[0;34m(\u001b[0m\u001b[0mXt\u001b[0m\u001b[0;34m,\u001b[0m \u001b[0my\u001b[0m\u001b[0;34m,\u001b[0m \u001b[0;34m**\u001b[0m\u001b[0mfit_params\u001b[0m\u001b[0;34m)\u001b[0m\u001b[0;34m\u001b[0m\u001b[0m\n",
            "\u001b[0;32m/anaconda3/lib/python3.6/site-packages/sklearn/pipeline.py\u001b[0m in \u001b[0;36m_fit\u001b[0;34m(self, X, y, **fit_params)\u001b[0m\n\u001b[1;32m    211\u001b[0m                 Xt, fitted_transformer = fit_transform_one_cached(\n\u001b[1;32m    212\u001b[0m                     \u001b[0mcloned_transformer\u001b[0m\u001b[0;34m,\u001b[0m \u001b[0;32mNone\u001b[0m\u001b[0;34m,\u001b[0m \u001b[0mXt\u001b[0m\u001b[0;34m,\u001b[0m \u001b[0my\u001b[0m\u001b[0;34m,\u001b[0m\u001b[0;34m\u001b[0m\u001b[0m\n\u001b[0;32m--> 213\u001b[0;31m                     **fit_params_steps[name])\n\u001b[0m\u001b[1;32m    214\u001b[0m                 \u001b[0;31m# Replace the transformer of the step with the fitted\u001b[0m\u001b[0;34m\u001b[0m\u001b[0;34m\u001b[0m\u001b[0m\n\u001b[1;32m    215\u001b[0m                 \u001b[0;31m# transformer. This is necessary when loading the transformer\u001b[0m\u001b[0;34m\u001b[0m\u001b[0;34m\u001b[0m\u001b[0m\n",
            "\u001b[0;32m/anaconda3/lib/python3.6/site-packages/sklearn/externals/joblib/memory.py\u001b[0m in \u001b[0;36m__call__\u001b[0;34m(self, *args, **kwargs)\u001b[0m\n\u001b[1;32m    360\u001b[0m \u001b[0;34m\u001b[0m\u001b[0m\n\u001b[1;32m    361\u001b[0m     \u001b[0;32mdef\u001b[0m \u001b[0m__call__\u001b[0m\u001b[0;34m(\u001b[0m\u001b[0mself\u001b[0m\u001b[0;34m,\u001b[0m \u001b[0;34m*\u001b[0m\u001b[0margs\u001b[0m\u001b[0;34m,\u001b[0m \u001b[0;34m**\u001b[0m\u001b[0mkwargs\u001b[0m\u001b[0;34m)\u001b[0m\u001b[0;34m:\u001b[0m\u001b[0;34m\u001b[0m\u001b[0m\n\u001b[0;32m--> 362\u001b[0;31m         \u001b[0;32mreturn\u001b[0m \u001b[0mself\u001b[0m\u001b[0;34m.\u001b[0m\u001b[0mfunc\u001b[0m\u001b[0;34m(\u001b[0m\u001b[0;34m*\u001b[0m\u001b[0margs\u001b[0m\u001b[0;34m,\u001b[0m \u001b[0;34m**\u001b[0m\u001b[0mkwargs\u001b[0m\u001b[0;34m)\u001b[0m\u001b[0;34m\u001b[0m\u001b[0m\n\u001b[0m\u001b[1;32m    363\u001b[0m \u001b[0;34m\u001b[0m\u001b[0m\n\u001b[1;32m    364\u001b[0m     \u001b[0;32mdef\u001b[0m \u001b[0mcall_and_shelve\u001b[0m\u001b[0;34m(\u001b[0m\u001b[0mself\u001b[0m\u001b[0;34m,\u001b[0m \u001b[0;34m*\u001b[0m\u001b[0margs\u001b[0m\u001b[0;34m,\u001b[0m \u001b[0;34m**\u001b[0m\u001b[0mkwargs\u001b[0m\u001b[0;34m)\u001b[0m\u001b[0;34m:\u001b[0m\u001b[0;34m\u001b[0m\u001b[0m\n",
            "\u001b[0;32m/anaconda3/lib/python3.6/site-packages/sklearn/pipeline.py\u001b[0m in \u001b[0;36m_fit_transform_one\u001b[0;34m(transformer, weight, X, y, **fit_params)\u001b[0m\n\u001b[1;32m    579\u001b[0m                        **fit_params):\n\u001b[1;32m    580\u001b[0m     \u001b[0;32mif\u001b[0m \u001b[0mhasattr\u001b[0m\u001b[0;34m(\u001b[0m\u001b[0mtransformer\u001b[0m\u001b[0;34m,\u001b[0m \u001b[0;34m'fit_transform'\u001b[0m\u001b[0;34m)\u001b[0m\u001b[0;34m:\u001b[0m\u001b[0;34m\u001b[0m\u001b[0m\n\u001b[0;32m--> 581\u001b[0;31m         \u001b[0mres\u001b[0m \u001b[0;34m=\u001b[0m \u001b[0mtransformer\u001b[0m\u001b[0;34m.\u001b[0m\u001b[0mfit_transform\u001b[0m\u001b[0;34m(\u001b[0m\u001b[0mX\u001b[0m\u001b[0;34m,\u001b[0m \u001b[0my\u001b[0m\u001b[0;34m,\u001b[0m \u001b[0;34m**\u001b[0m\u001b[0mfit_params\u001b[0m\u001b[0;34m)\u001b[0m\u001b[0;34m\u001b[0m\u001b[0m\n\u001b[0m\u001b[1;32m    582\u001b[0m     \u001b[0;32melse\u001b[0m\u001b[0;34m:\u001b[0m\u001b[0;34m\u001b[0m\u001b[0m\n\u001b[1;32m    583\u001b[0m         \u001b[0mres\u001b[0m \u001b[0;34m=\u001b[0m \u001b[0mtransformer\u001b[0m\u001b[0;34m.\u001b[0m\u001b[0mfit\u001b[0m\u001b[0;34m(\u001b[0m\u001b[0mX\u001b[0m\u001b[0;34m,\u001b[0m \u001b[0my\u001b[0m\u001b[0;34m,\u001b[0m \u001b[0;34m**\u001b[0m\u001b[0mfit_params\u001b[0m\u001b[0;34m)\u001b[0m\u001b[0;34m.\u001b[0m\u001b[0mtransform\u001b[0m\u001b[0;34m(\u001b[0m\u001b[0mX\u001b[0m\u001b[0;34m)\u001b[0m\u001b[0;34m\u001b[0m\u001b[0m\n",
            "\u001b[0;32m/anaconda3/lib/python3.6/site-packages/sklearn/base.py\u001b[0m in \u001b[0;36mfit_transform\u001b[0;34m(self, X, y, **fit_params)\u001b[0m\n\u001b[1;32m    515\u001b[0m         \u001b[0;32mif\u001b[0m \u001b[0my\u001b[0m \u001b[0;32mis\u001b[0m \u001b[0;32mNone\u001b[0m\u001b[0;34m:\u001b[0m\u001b[0;34m\u001b[0m\u001b[0m\n\u001b[1;32m    516\u001b[0m             \u001b[0;31m# fit method of arity 1 (unsupervised transformation)\u001b[0m\u001b[0;34m\u001b[0m\u001b[0;34m\u001b[0m\u001b[0m\n\u001b[0;32m--> 517\u001b[0;31m             \u001b[0;32mreturn\u001b[0m \u001b[0mself\u001b[0m\u001b[0;34m.\u001b[0m\u001b[0mfit\u001b[0m\u001b[0;34m(\u001b[0m\u001b[0mX\u001b[0m\u001b[0;34m,\u001b[0m \u001b[0;34m**\u001b[0m\u001b[0mfit_params\u001b[0m\u001b[0;34m)\u001b[0m\u001b[0;34m.\u001b[0m\u001b[0mtransform\u001b[0m\u001b[0;34m(\u001b[0m\u001b[0mX\u001b[0m\u001b[0;34m)\u001b[0m\u001b[0;34m\u001b[0m\u001b[0m\n\u001b[0m\u001b[1;32m    518\u001b[0m         \u001b[0;32melse\u001b[0m\u001b[0;34m:\u001b[0m\u001b[0;34m\u001b[0m\u001b[0m\n\u001b[1;32m    519\u001b[0m             \u001b[0;31m# fit method of arity 2 (supervised transformation)\u001b[0m\u001b[0;34m\u001b[0m\u001b[0;34m\u001b[0m\u001b[0m\n",
            "\u001b[0;32m~/dsi/projects/7.0 project 4/West_Nile_Kaggle/project_master/transformers.py\u001b[0m in \u001b[0;36mfit\u001b[0;34m(self, X, y, **kwargs)\u001b[0m\n\u001b[1;32m     32\u001b[0m     \u001b[0;32mdef\u001b[0m \u001b[0mfit\u001b[0m\u001b[0;34m(\u001b[0m\u001b[0mself\u001b[0m\u001b[0;34m,\u001b[0m \u001b[0mX\u001b[0m\u001b[0;34m,\u001b[0m \u001b[0my\u001b[0m\u001b[0;34m=\u001b[0m\u001b[0;32mNone\u001b[0m\u001b[0;34m,\u001b[0m \u001b[0;34m**\u001b[0m\u001b[0mkwargs\u001b[0m\u001b[0;34m)\u001b[0m\u001b[0;34m:\u001b[0m\u001b[0;34m\u001b[0m\u001b[0m\n\u001b[1;32m     33\u001b[0m         \u001b[0mself\u001b[0m\u001b[0;34m.\u001b[0m\u001b[0mdummies_\u001b[0m \u001b[0;34m=\u001b[0m  \u001b[0mpd\u001b[0m\u001b[0;34m.\u001b[0m\u001b[0mget_dummies\u001b[0m\u001b[0;34m(\u001b[0m\u001b[0mX\u001b[0m\u001b[0;34m[\u001b[0m\u001b[0mself\u001b[0m\u001b[0;34m.\u001b[0m\u001b[0mcolumn\u001b[0m\u001b[0;34m]\u001b[0m\u001b[0;34m)\u001b[0m\u001b[0;34m\u001b[0m\u001b[0m\n\u001b[0;32m---> 34\u001b[0;31m         \u001b[0mself\u001b[0m\u001b[0;34m.\u001b[0m\u001b[0mcolumns_\u001b[0m \u001b[0;34m=\u001b[0m \u001b[0mlist\u001b[0m\u001b[0;34m(\u001b[0m\u001b[0mself\u001b[0m\u001b[0;34m.\u001b[0m\u001b[0mdummies_\u001b[0m\u001b[0;34m.\u001b[0m\u001b[0mcolumns\u001b[0m\u001b[0;34m)\u001b[0m\u001b[0;34m\u001b[0m\u001b[0m\n\u001b[0m\u001b[1;32m     35\u001b[0m         \u001b[0;32mreturn\u001b[0m \u001b[0mself\u001b[0m\u001b[0;34m\u001b[0m\u001b[0m\n\u001b[1;32m     36\u001b[0m \u001b[0;34m\u001b[0m\u001b[0m\n",
            "\u001b[0;31mAttributeError\u001b[0m: 'DummyEncoder' object has no attribute 'dummies'"
          ]
        }
      ],
      "execution_count": 25,
      "metadata": {
        "collapsed": false,
        "outputHidden": false,
        "inputHidden": false
      }
    },
    {
      "cell_type": "code",
      "source": [
        "Xtrain.shape"
      ],
      "outputs": [
        {
          "output_type": "execute_result",
          "execution_count": 281,
          "data": {
            "text/plain": [
              "(7879, 221)"
            ]
          },
          "metadata": {}
        }
      ],
      "execution_count": 281,
      "metadata": {
        "collapsed": false,
        "outputHidden": false,
        "inputHidden": false
      }
    },
    {
      "cell_type": "code",
      "source": [
        "train.columns"
      ],
      "outputs": [
        {
          "output_type": "execute_result",
          "execution_count": 292,
          "data": {
            "text/plain": [
              "Index(['date', 'address', 'species', 'lat', 'long', 'WnvPresent', 'loc',\n",
              "       'utc'],\n",
              "      dtype='object')"
            ]
          },
          "metadata": {}
        }
      ],
      "execution_count": 292,
      "metadata": {
        "collapsed": false,
        "outputHidden": false,
        "inputHidden": false
      }
    },
    {
      "cell_type": "code",
      "source": [
        "from sklearn.linear_model import LogisticRegression\n",
        "from sklearn.metrics import roc_auc_score"
      ],
      "outputs": [],
      "execution_count": 297,
      "metadata": {
        "collapsed": false,
        "outputHidden": false,
        "inputHidden": false
      }
    },
    {
      "cell_type": "code",
      "source": [
        "def scores(model):\n",
        "    try:\n",
        "        print('ROC-AUC w/df: %f6, %f6'%\n",
        "              (roc_auc_score(ytrain,model.decision_function(Xtrain)),\n",
        "              roc_auc_score(ytest,model.decision_function(Xtest)))\n",
        "             )\n",
        "    except AttributeError:\n",
        "        print('ROC-AUC w/ proba[1]: %f6, %f6'%\n",
        "              (roc_auc_score(ytrain,model.predict_proba(Xtrain)),\n",
        "              roc_auc_score(ytest,model.predict_proba(Xtest)))\n",
        "             )\n",
        "    pass\n",
        "\nscores(lr)"
      ],
      "outputs": [
        {
          "output_type": "stream",
          "name": "stdout",
          "text": [
            "ROC-AUC w/df: 0.8692996, 0.8376166\n"
          ]
        }
      ],
      "execution_count": 384,
      "metadata": {
        "collapsed": false,
        "outputHidden": false,
        "inputHidden": false
      }
    },
    {
      "cell_type": "code",
      "source": [],
      "outputs": [],
      "execution_count": 385,
      "metadata": {
        "collapsed": false,
        "outputHidden": false,
        "inputHidden": false
      }
    },
    {
      "cell_type": "code",
      "source": [
        "lr = LogisticRegression().fit(Xtrain,ytrain)\n",
        "lr.score(Xtrain,ytrain)\n",
        "\n",
        "scores(lr)\n",
        "\n",
        "yhat = lr.predict_proba(Xk)[:,1]\n",
        "catch = submit(yhat,'predictproba')"
      ],
      "outputs": [
        {
          "output_type": "stream",
          "name": "stdout",
          "text": [
            "ROC-AUC w/df: 0.8719546, 0.8367136\n"
          ]
        }
      ],
      "execution_count": 385,
      "metadata": {
        "collapsed": false,
        "outputHidden": false,
        "inputHidden": false
      }
    },
    {
      "cell_type": "code",
      "source": [
        "lr = LogisticRegression(penalty='l2',C=.1).fit(Xtrain,ytrain)\n",
        "lr.score(Xtrain,ytrain)\n",
        "\n",
        "scores(lr)\n",
        "\n",
        "yhat = lr.predict_proba(Xk)[:,1]\n",
        "catch = submit(yhat,'l2-0-1')"
      ],
      "outputs": [
        {
          "output_type": "stream",
          "name": "stdout",
          "text": [
            "ROC-AUC w/df: 0.8429066, 0.8177496\n"
          ]
        }
      ],
      "execution_count": 476,
      "metadata": {
        "collapsed": false,
        "outputHidden": false,
        "inputHidden": false
      }
    },
    {
      "cell_type": "code",
      "source": [
        "print(pd.DataFrame(abs(lr.coef_),columns=Xtrain.columns).T.sort_values(0,ascending=False).head(20))"
      ],
      "outputs": [
        {
          "output_type": "stream",
          "name": "stdout",
          "text": [
            "                                              0\n",
            "08                                     0.810293\n",
            "4100  N OAK PARK AVE, Chicago, IL      0.586223\n",
            "22                                     0.560808\n",
            "1000  W OHARE AIRPORT, Chicago, IL     0.551954\n",
            "CULEX PIPIENS                          0.539615\n",
            "HighRisk                               0.517421\n",
            "4600  N MILWAUKEE AVE, Chicago, IL     0.471284\n",
            "CULEX TERRITANS                        0.465625\n",
            "17                                     0.444994\n",
            "8200  S KOSTNER AVE, Chicago, IL       0.427131\n",
            "15                                     0.425523\n",
            "21                                     0.390900\n",
            "Thunderstorm                           0.390366\n",
            "06                                     0.388504\n",
            "29                                     0.388213\n",
            "August                                 0.381017\n",
            "27                                     0.378531\n",
            "5800  N WESTERN AVE, Chicago, IL       0.372694\n",
            "1000  S STONY ISLAND AVE, Chicago, IL  0.351656\n",
            "18                                     0.347267\n"
          ]
        }
      ],
      "execution_count": 414,
      "metadata": {
        "collapsed": false,
        "outputHidden": false,
        "inputHidden": false
      }
    },
    {
      "cell_type": "code",
      "source": [
        "lr = LogisticRegression(penalty='l1',C=1).fit(Xtrain,ytrain)\n",
        "lr.score(Xtrain,ytrain)\n",
        "\n",
        "scores(lr)\n",
        "\n",
        "yhat = lr.predict_proba(Xk)[:,1]\n",
        "catch = submit(yhat,'l1-1')"
      ],
      "outputs": [
        {
          "output_type": "stream",
          "name": "stdout",
          "text": [
            "ROC-AUC w/df: 0.8692466, 0.8375786\n"
          ]
        }
      ],
      "execution_count": 387,
      "metadata": {
        "collapsed": false,
        "outputHidden": false,
        "inputHidden": false
      }
    },
    {
      "cell_type": "code",
      "source": [
        "lr = LogisticRegression(penalty='l1',C=.1).fit(Xtrain,ytrain)\n",
        "lr.score(Xtrain,ytrain)\n",
        "\n",
        "scores(lr)\n",
        "\n",
        "yhat = lr.predict_proba(Xk)[:,1]\n",
        "#catch = submit(yhat,'l2-0-1')"
      ],
      "outputs": [
        {
          "output_type": "stream",
          "name": "stdout",
          "text": [
            "ROC-AUC w/df: 0.7996496, 0.7803326\n"
          ]
        }
      ],
      "execution_count": 388,
      "metadata": {
        "collapsed": false,
        "outputHidden": false,
        "inputHidden": false
      }
    },
    {
      "cell_type": "code",
      "source": [],
      "outputs": [],
      "execution_count": null,
      "metadata": {
        "collapsed": false,
        "outputHidden": false,
        "inputHidden": false
      }
    },
    {
      "cell_type": "code",
      "source": [
        "from sklearn.tree import DecisionTreeClassifier\n",
        "tree = DecisionTreeClassifier().fit(Xtrain,ytrain)"
      ],
      "outputs": [],
      "execution_count": 389,
      "metadata": {
        "collapsed": false,
        "outputHidden": false,
        "inputHidden": false
      }
    },
    {
      "cell_type": "code",
      "source": [
        "print(roc_auc_score(ytrain,tree.predict(Xtrain)))\n",
        "print(roc_auc_score(ytest,tree.predict(Xtest)))"
      ],
      "outputs": [
        {
          "output_type": "stream",
          "name": "stdout",
          "text": [
            "0.845845151774404\n",
            "0.5849767964551271\n"
          ]
        }
      ],
      "execution_count": 426,
      "metadata": {
        "collapsed": false,
        "outputHidden": false,
        "inputHidden": false
      }
    },
    {
      "cell_type": "code",
      "source": [
        "from sklearn.tree import DecisionTreeClassifier\n",
        "tree = DecisionTreeClassifier(max_features=10,max_depth=21).fit(Xtrain,ytrain)\n",
        "print(roc_auc_score(ytrain,tree.predict(Xtrain)))\n",
        "print(roc_auc_score(ytest,tree.predict(Xtest)))"
      ],
      "outputs": [
        {
          "output_type": "stream",
          "name": "stdout",
          "text": [
            "0.6159548792297479\n",
            "0.5275865984243716\n"
          ]
        }
      ],
      "execution_count": 467,
      "metadata": {
        "collapsed": false,
        "outputHidden": false,
        "inputHidden": false
      }
    },
    {
      "cell_type": "code",
      "source": [
        "from sklearn.ensemble import BaggingClassifier,RandomForestClassifier\n",
        "bag = BaggingClassifier(n_estimators=15,max_features=140,bootstrap_features=True).fit(Xtrain,ytrain)"
      ],
      "outputs": [],
      "execution_count": 529,
      "metadata": {
        "collapsed": false,
        "outputHidden": false,
        "inputHidden": false
      }
    },
    {
      "cell_type": "code",
      "source": [
        "bag.score(Xtrain,ytrain)\n",
        "bag.score(Xtest,ytest)\n",
        "\n",
        "yhat = bag.predict_proba(Xk)[:,1]\n",
        "catch = submit(yhat,'bag_15est_140bootfeat')"
      ],
      "outputs": [],
      "execution_count": 527,
      "metadata": {
        "collapsed": false,
        "outputHidden": false,
        "inputHidden": false
      }
    },
    {
      "cell_type": "code",
      "source": [
        "print(roc_auc_score(ytrain,bag.predict(Xtrain)))\n",
        "print(roc_auc_score(ytest,bag.predict(Xtest)))"
      ],
      "outputs": [
        {
          "output_type": "stream",
          "name": "stdout",
          "text": [
            "0.5710267498373579\n",
            "0.5310016245392772\n"
          ]
        }
      ],
      "execution_count": 528,
      "metadata": {
        "collapsed": false,
        "outputHidden": false,
        "inputHidden": false
      }
    },
    {
      "cell_type": "code",
      "source": [
        "forest = RandomForestClassifier(n_estimators=15,max_features=140,min_impurity_decrease=.00009).fit(Xtrain,ytrain)\n",
        "print(roc_auc_score(ytrain,forest.predict(Xtrain)))\n",
        "print(roc_auc_score(ytest,forest.predict(Xtest)))\n",
        "\n",
        "yhat = bag.predict_proba(Xk)[:,1]\n",
        "#catch = submit(yhat,'forest_15est_140feat_minimpur00009')"
      ],
      "outputs": [
        {
          "output_type": "stream",
          "name": "stdout",
          "text": [
            "0.6552367504276043\n",
            "0.5358373946815262\n"
          ]
        }
      ],
      "execution_count": 564,
      "metadata": {
        "collapsed": false,
        "outputHidden": false,
        "inputHidden": false
      }
    },
    {
      "cell_type": "code",
      "source": [
        "from keras.models import Sequential\n",
        "from keras.layers import Dense,Activation,Dropout\n",
        "from keras.utils.np_utils import to_categorical"
      ],
      "outputs": [],
      "execution_count": 745,
      "metadata": {
        "collapsed": false,
        "outputHidden": false,
        "inputHidden": false
      }
    },
    {
      "cell_type": "code",
      "source": [
        "Xtrain.shape[1]"
      ],
      "outputs": [
        {
          "output_type": "execute_result",
          "execution_count": 572,
          "data": {
            "text/plain": [
              "221"
            ]
          },
          "metadata": {}
        }
      ],
      "execution_count": 572,
      "metadata": {
        "collapsed": false,
        "outputHidden": false,
        "inputHidden": false
      }
    },
    {
      "cell_type": "code",
      "source": [
        "from sklearn.preprocessing import StandardScaler\n",
        "ss = StandardScaler().fit(Xtrain)"
      ],
      "outputs": [],
      "execution_count": 719,
      "metadata": {
        "collapsed": false,
        "outputHidden": false,
        "inputHidden": false
      }
    },
    {
      "cell_type": "code",
      "source": [
        "nn = Sequential()\n",
        "nn.add(Dense(48, input_dim=Xtrain.shape[1]))\n",
        "nn.add(Activation('relu'))\n",
        "nn.add(Dropout(9))\n",
        "#nn.add(Dense(2))\n",
        "#nn.add(Activation('relu'))\n",
        "#nn.add(Activation('relu'))\n",
        "nn.add(Dense(2))\n",
        "nn.add(Activation('sigmoid'))\n",
        "\n\n",
        "nn.compile(optimizer='adam',\n",
        "          loss='categorical_crossentropy',\n",
        "          metrics=['acc'])"
      ],
      "outputs": [],
      "execution_count": 805,
      "metadata": {
        "collapsed": false,
        "outputHidden": false,
        "inputHidden": false
      }
    },
    {
      "cell_type": "code",
      "source": [
        "nn.fit(ss.transform(Xtrain.values), to_categorical(ytrain), epochs=20, batch_size=32, validation_data=(ss.transform(Xtest.values),to_categorical(ytest)))"
      ],
      "outputs": [
        {
          "output_type": "stream",
          "name": "stdout",
          "text": [
            "Train on 7879 samples, validate on 2627 samples\n",
            "Epoch 1/20\n",
            "7879/7879 [==============================] - 1s 190us/step - loss: 0.2478 - acc: 0.9283 - val_loss: 0.1807 - val_acc: 0.9471\b\b\b\b\b\b\b\b\b\b\b\b\b\b\b\b\b\b\b\b\b\b\b\b\b\b\b\b\b\b\b\b\b\b\b\b\b\b\b\b\b\b\n",
            "Epoch 2/20\n",
            "7879/7879 [==============================] - 1s 64us/step - loss: 0.1610 - acc: 0.9477 - val_loss: 0.1754 - val_acc: 0.9467\b\b\b\b\b\b\b\b\b\b\b\b\b\b\b\b\b\b\b\b\b\b\b\b\b\b\b\b\b\b\b\b\b\b\b\b\b\b\b\n",
            "Epoch 3/20\n",
            "7879/7879 [==============================] - 1s 70us/step - loss: 0.1470 - acc: 0.9491 - val_loss: 0.1741 - val_acc: 0.9463\b\b\b\b\b\b\b\b\b\b\b\b\b\b\b\b\b\b\b\b\b\b\b\b\b\b\b\b\b\b\b\b\b\b\b\b\b\b\b\n",
            "Epoch 4/20\n",
            "7879/7879 [==============================] - 1s 71us/step - loss: 0.1385 - acc: 0.9497 - val_loss: 0.1755 - val_acc: 0.9459\b\b\b\b\b\b\b\b\b\b\b\b\b\b\b\b\b\b\b\b\b\b\b\b\b\b\b\b\b\b\b\b\b\b\b\b\b\b\b\n",
            "Epoch 5/20\n",
            "7879/7879 [==============================] - 1s 66us/step - loss: 0.1316 - acc: 0.9492 - val_loss: 0.1776 - val_acc: 0.9456\b\b\b\b\b\b\b\b\b\b\b\b\b\b\b\b\b\b\b\b\b\b\b\b\b\b\b\b\b\b\b\b\b\b\b\b\b\b\b\n",
            "Epoch 6/20\n",
            "7879/7879 [==============================] - 1s 69us/step - loss: 0.1258 - acc: 0.9508 - val_loss: 0.1792 - val_acc: 0.9448\b\b\b\b\b\b\b\b\b\b\b\b\b\b\b\b\b\b\b\b\b\b\b\b\b\b\b\b\b\b\b\b\b\b\b\b\b\b\b\n",
            "Epoch 7/20\n",
            "7879/7879 [==============================] - 1s 70us/step - loss: 0.1208 - acc: 0.9527 - val_loss: 0.1861 - val_acc: 0.9425\b\b\b\b\b\b\b\b\b\b\b\b\b\b\b\b\b\b\b\b\b\b\b\b\b\b\b\b\b\b\b\b\b\b\b\b\b\b\b\n",
            "Epoch 8/20\n",
            "7879/7879 [==============================] - 1s 69us/step - loss: 0.1164 - acc: 0.9527 - val_loss: 0.1841 - val_acc: 0.9440\b\b\b\b\b\b\b\b\b\b\b\b\b\b\b\b\b\b\b\b\b\b\b\b\b\b\b\b\b\b\b\b\b\b\b\b\b\b\b\n",
            "Epoch 9/20\n",
            "7879/7879 [==============================] - 1s 71us/step - loss: 0.1111 - acc: 0.9542 - val_loss: 0.1894 - val_acc: 0.9444\b\b\b\b\b\b\b\b\b\b\b\b\b\b\b\b\b\b\b\b\b\b\b\b\b\b\b\b\b\b\b\b\b\b\b\b\b\b\b\n",
            "Epoch 10/20\n",
            "7879/7879 [==============================] - 1s 76us/step - loss: 0.1070 - acc: 0.9542 - val_loss: 0.1953 - val_acc: 0.9414\b\b\b\b\b\b\b\b\b\b\b\b\b\b\b\b\b\b\b\b\b\b\b\b\b\b\b\b\b\b\b\b\b\b\b\b\b\b\b\n",
            "Epoch 11/20\n",
            "7879/7879 [==============================] - 1s 66us/step - loss: 0.1031 - acc: 0.9562 - val_loss: 0.1949 - val_acc: 0.9456\b\b\b\b\b\b\b\b\b\b\b\b\b\b\b\b\b\b\b\b\b\b\b\b\b\b\b\b\b\b\b\b\b\b\b\b\b\b\b\n",
            "Epoch 12/20\n",
            "7879/7879 [==============================] - 1s 82us/step - loss: 0.0995 - acc: 0.9565 - val_loss: 0.2030 - val_acc: 0.9425\b\b\b\b\b\b\b\b\b\b\b\b\b\b\b\b\b\b\b\b\b\b\b\b\b\b\b\b\b\b\b\b\b\b\b\b\b\b\b\n",
            "Epoch 13/20\n",
            "7879/7879 [==============================] - 1s 76us/step - loss: 0.0963 - acc: 0.9566 - val_loss: 0.2091 - val_acc: 0.9406\b\b\b\b\b\b\b\b\b\b\b\b\b\b\b\b\b\b\b\b\b\b\b\b\b\b\b\b\b\b\b\b\b\b\b\b\b\b\b\n",
            "Epoch 14/20\n",
            "7879/7879 [==============================] - 1s 78us/step - loss: 0.0925 - acc: 0.9590 - val_loss: 0.2131 - val_acc: 0.9399\b\b\b\b\b\b\b\b\b\b\b\b\b\b\b\b\b\b\b\b\b\b\b\b\b\b\b\b\b\b\b\b\b\b\b\b\b\b\b\n",
            "Epoch 15/20\n",
            "7879/7879 [==============================] - 1s 80us/step - loss: 0.0893 - acc: 0.9604 - val_loss: 0.2223 - val_acc: 0.9376\b\b\b\b\b\b\b\b\b\b\b\b\b\b\b\b\b\b\b\b\b\b\b\b\b\b\b\b\b\b\b\b\b\b\b\b\b\b\b\n",
            "Epoch 16/20\n",
            "7879/7879 [==============================] - 1s 89us/step - loss: 0.0866 - acc: 0.9614 - val_loss: 0.2221 - val_acc: 0.9395\b\b\b\b\b\b\b\b\b\b\b\b\b\b\b\b\b\b\b\b\b\b\b\b\b\b\b\b\b\b\b\b\b\b\b\b\b\b\b\n",
            "Epoch 17/20\n",
            "7879/7879 [==============================] - 1s 76us/step - loss: 0.0823 - acc: 0.9642 - val_loss: 0.2310 - val_acc: 0.9399\b\b\b\b\b\b\b\b\b\b\b\b\b\b\b\b\b\b\b\b\b\b\b\b\b\b\b\b\b\b\b\b\b\b\b\b\b\b\b\n",
            "Epoch 18/20\n",
            "7879/7879 [==============================] - 1s 72us/step - loss: 0.0800 - acc: 0.9654 - val_loss: 0.2381 - val_acc: 0.9406\b\b\b\b\b\b\b\b\b\b\b\b\b\b\b\b\b\b\b\b\b\b\b\b\b\b\b\b\b\b\b\b\b\b\b\b\b\b\b\n",
            "Epoch 19/20\n",
            "7879/7879 [==============================] - 1s 69us/step - loss: 0.0779 - acc: 0.9662 - val_loss: 0.2426 - val_acc: 0.9402\b\b\b\b\b\b\b\b\b\b\b\b\b\b\b\b\b\b\b\b\b\b\b\b\b\b\b\b\b\b\b\b\b\b\b\b\b\b\b\n",
            "Epoch 20/20\n",
            "7879/7879 [==============================] - 1s 71us/step - loss: 0.0746 - acc: 0.9670 - val_loss: 0.2469 - val_acc: 0.9383\b\b\b\b\b\b\b\b\b\b\b\b\b\b\b\b\b\b\b\b\b\b\b\b\b\b\b\b\b\b\b\b\b\b\b\b\b\b\b\n"
          ]
        },
        {
          "output_type": "execute_result",
          "execution_count": 806,
          "data": {
            "text/plain": [
              "<keras.callbacks.History at 0x1a4dfe7e48>"
            ]
          },
          "metadata": {}
        }
      ],
      "execution_count": 806,
      "metadata": {
        "collapsed": false,
        "outputHidden": false,
        "inputHidden": false
      }
    },
    {
      "cell_type": "code",
      "source": [
        "print(roc_auc_score(to_categorical(ytrain),nn.predict_proba(ss.transform(Xtrain))),roc_auc_score(to_categorical(ytest),nn.predict_proba(ss.transform(Xtest))))"
      ],
      "outputs": [
        {
          "output_type": "stream",
          "name": "stdout",
          "text": [
            "0.8977193786975532 0.7715746385545676\n"
          ]
        }
      ],
      "execution_count": 807,
      "metadata": {
        "collapsed": false,
        "outputHidden": false,
        "inputHidden": false
      }
    },
    {
      "cell_type": "code",
      "source": [
        "yhat = nn.predict(ss.transform(Xk))\n",
        "catch = submit(yhat[:,1],'nn_48l_2l_48dense_9drop')"
      ],
      "outputs": [],
      "execution_count": 803,
      "metadata": {
        "collapsed": false,
        "outputHidden": false,
        "inputHidden": false
      }
    },
    {
      "cell_type": "code",
      "source": [],
      "outputs": [],
      "execution_count": 804,
      "metadata": {
        "collapsed": false,
        "outputHidden": false,
        "inputHidden": false
      }
    },
    {
      "cell_type": "code",
      "source": [
        "yhat[:,1].shape"
      ],
      "outputs": [
        {
          "output_type": "execute_result",
          "execution_count": 798,
          "data": {
            "text/plain": [
              "(116293,)"
            ]
          },
          "metadata": {}
        }
      ],
      "execution_count": 798,
      "metadata": {
        "collapsed": false,
        "outputHidden": false,
        "inputHidden": false
      }
    },
    {
      "cell_type": "code",
      "source": [
        "nn = Sequential()\n",
        "nn.add(Dense(360, input_dim=Xtrain.shape[1]))\n",
        "nn.add(Activation('relu'))\n",
        "nn.add(Dropout(.50))\n",
        "nn.add(Dense(48))\n",
        "nn.add(Activation('relu'))\n",
        "nn.add(Dropout(.50))\n",
        "#nn.add(Dense(2))\n",
        "#nn.add(Activation('relu'))\n",
        "#nn.add(Activation('relu'))\n",
        "nn.add(Dense(2))\n",
        "nn.add(Activation('sigmoid'))\n",
        "\n\n",
        "nn.compile(optimizer='adam',\n",
        "          loss='categorical_crossentropy',\n",
        "          metrics=['acc'])"
      ],
      "outputs": [],
      "execution_count": 847,
      "metadata": {
        "collapsed": false,
        "outputHidden": false,
        "inputHidden": false
      }
    },
    {
      "cell_type": "code",
      "source": [
        "nn.fit(ss.transform(Xtrain.values), to_categorical(ytrain), epochs=50, batch_size=32, validation_data=(ss.transform(Xtest.values),to_categorical(ytest)))"
      ],
      "outputs": [
        {
          "output_type": "stream",
          "name": "stdout",
          "text": [
            "Train on 7879 samples, validate on 2627 samples\n",
            "Epoch 1/50\n",
            "7879/7879 [==============================] - 2s 301us/step - loss: 0.2317 - acc: 0.9414 - val_loss: 0.1771 - val_acc: 0.9475\b\b\b\b\b\b\b\b\b\b\b\b\b\b\b\b\b\b\b\b\b\b\b\b\b\b\b\b\b\b\b\b\b\b\b\b\b\b\b\b\b\b\n",
            "Epoch 2/50\n",
            "7879/7879 [==============================] - 1s 111us/step - loss: 0.1830 - acc: 0.9473 - val_loss: 0.1738 - val_acc: 0.9475\b\b\b\b\b\b\b\b\b\b\b\b\b\b\b\b\b\b\b\b\b\b\b\b\b\b\b\b\b\b\b\b\b\b\b\b\b\b\n",
            "Epoch 3/50\n",
            "7879/7879 [==============================] - 1s 113us/step - loss: 0.1667 - acc: 0.9475 - val_loss: 0.1781 - val_acc: 0.9475\b\b\b\b\b\b\b\b\b\b\b\b\b\b\b\b\b\b\b\b\b\b\b\b\b\b\b\b\b\b\b\b\b\b\b\b\b\b\n",
            "Epoch 4/50\n",
            "7879/7879 [==============================] - 1s 114us/step - loss: 0.1602 - acc: 0.9473 - val_loss: 0.1778 - val_acc: 0.9475\b\b\b\b\b\b\b\b\b\b\b\b\b\b\b\b\b\b\b\b\b\b\b\b\b\b\b\b\b\b\b\b\b\b\b\b\b\b\n",
            "Epoch 5/50\n",
            "7879/7879 [==============================] - 1s 111us/step - loss: 0.1543 - acc: 0.9481 - val_loss: 0.1846 - val_acc: 0.9475\b\b\b\b\b\b\b\b\b\b\b\b\b\b\b\b\b\b\b\b\b\b\b\b\b\b\b\b\b\b\b\b\b\b\b\b\b\b\n",
            "Epoch 6/50\n",
            "7879/7879 [==============================] - 1s 114us/step - loss: 0.1498 - acc: 0.9477 - val_loss: 0.1818 - val_acc: 0.9475\b\b\b\b\b\b\b\b\b\b\b\b\b\b\b\b\b\b\b\b\b\b\b\b\b\b\b\b\b\b\b\b\b\b\b\b\b\b\n",
            "Epoch 7/50\n",
            "7879/7879 [==============================] - 1s 113us/step - loss: 0.1471 - acc: 0.9483 - val_loss: 0.1926 - val_acc: 0.9463\b\b\b\b\b\b\b\b\b\b\b\b\b\b\b\b\b\b\b\b\b\b\b\b\b\b\b\b\b\b\b\b\b\b\b\b\b\b\n",
            "Epoch 8/50\n",
            "7879/7879 [==============================] - 1s 121us/step - loss: 0.1410 - acc: 0.9487 - val_loss: 0.1876 - val_acc: 0.9459\b\b\b\b\b\b\b\b\b\b\b\b\b\b\b\b\b\b\b\b\b\b\b\b\b\b\b\b\b\b\b\b\b\b\b\b\b\b\n",
            "Epoch 9/50\n",
            "7879/7879 [==============================] - 1s 122us/step - loss: 0.1406 - acc: 0.9476 - val_loss: 0.1942 - val_acc: 0.9463\b\b\b\b\b\b\b\b\b\b\b\b\b\b\b\b\b\b\b\b\b\b\b\b\b\b\b\b\b\b\b\b\b\b\b\b\b\b\n",
            "Epoch 10/50\n",
            "7879/7879 [==============================] - 1s 116us/step - loss: 0.1322 - acc: 0.9501 - val_loss: 0.1993 - val_acc: 0.9456\b\b\b\b\b\b\b\b\b\b\b\b\b\b\b\b\b\b\b\b\b\b\b\b\b\b\b\b\b\b\b\b\b\b\b\b\b\b\n",
            "Epoch 11/50\n",
            "7879/7879 [==============================] - 1s 116us/step - loss: 0.1296 - acc: 0.9492 - val_loss: 0.1979 - val_acc: 0.9467\b\b\b\b\b\b\b\b\b\b\b\b\b\b\b\b\b\b\b\b\b\b\b\b\b\b\b\b\b\b\b\b\b\b\b\b\b\b\n",
            "Epoch 12/50\n",
            "7879/7879 [==============================] - 1s 117us/step - loss: 0.1249 - acc: 0.9485 - val_loss: 0.2077 - val_acc: 0.9475\b\b\b\b\b\b\b\b\b\b\b\b\b\b\b\b\b\b\b\b\b\b\b\b\b\b\b\b\b\b\b\b\b\b\b\b\b\b\n",
            "Epoch 13/50\n",
            "7879/7879 [==============================] - 1s 121us/step - loss: 0.1232 - acc: 0.9494 - val_loss: 0.2085 - val_acc: 0.9478\b\b\b\b\b\b\b\b\b\b\b\b\b\b\b\b\b\b\b\b\b\b\b\b\b\b\b\b\b\b\b\b\b\b\b\b\b\b\n",
            "Epoch 14/50\n",
            "7879/7879 [==============================] - 1s 117us/step - loss: 0.1204 - acc: 0.9509 - val_loss: 0.2109 - val_acc: 0.9475\b\b\b\b\b\b\b\b\b\b\b\b\b\b\b\b\b\b\b\b\b\b\b\b\b\b\b\b\b\b\b\b\b\b\b\b\b\b\n",
            "Epoch 15/50\n",
            "7879/7879 [==============================] - 1s 124us/step - loss: 0.1184 - acc: 0.9515 - val_loss: 0.2275 - val_acc: 0.9448\b\b\b\b\b\b\b\b\b\b\b\b\b\b\b\b\b\b\b\b\b\b\b\b\b\b\b\b\b\b\b\b\b\b\b\b\b\b\n",
            "Epoch 16/50\n",
            "7879/7879 [==============================] - 1s 115us/step - loss: 0.1128 - acc: 0.9511 - val_loss: 0.2267 - val_acc: 0.9437\b\b\b\b\b\b\b\b\b\b\b\b\b\b\b\b\b\b\b\b\b\b\b\b\b\b\b\b\b\b\b\b\b\b\b\b\b\b\n",
            "Epoch 17/50\n",
            "7879/7879 [==============================] - 1s 116us/step - loss: 0.1127 - acc: 0.9533 - val_loss: 0.2406 - val_acc: 0.9444\b\b\b\b\b\b\b\b\b\b\b\b\b\b\b\b\b\b\b\b\b\b\b\b\b\b\b\b\b\b\b\b\b\b\b\b\b\b\n",
            "Epoch 18/50\n",
            "7879/7879 [==============================] - 1s 115us/step - loss: 0.1119 - acc: 0.9520 - val_loss: 0.2453 - val_acc: 0.9448\b\b\b\b\b\b\b\b\b\b\b\b\b\b\b\b\b\b\b\b\b\b\b\b\b\b\b\b\b\b\b\b\b\b\b\b\b\b\n",
            "Epoch 19/50\n",
            "7879/7879 [==============================] - 1s 122us/step - loss: 0.1070 - acc: 0.9563 - val_loss: 0.2439 - val_acc: 0.9402\b\b\b\b\b\b\b\b\b\b\b\b\b\b\b\b\b\b\b\b\b\b\b\b\b\b\b\b\b\b\b\b\b\b\b\b\b\b\n",
            "Epoch 20/50\n",
            "7879/7879 [==============================] - 1s 124us/step - loss: 0.1094 - acc: 0.9546 - val_loss: 0.2488 - val_acc: 0.9418\b\b\b\b\b\b\b\b\b\b\b\b\b\b\b\b\b\b\b\b\b\b\b\b\b\b\b\b\b\b\b\b\b\b\b\b\b\b\n",
            "Epoch 21/50\n",
            "7879/7879 [==============================] - 1s 118us/step - loss: 0.1047 - acc: 0.9541 - val_loss: 0.2630 - val_acc: 0.9353\b\b\b\b\b\b\b\b\b\b\b\b\b\b\b\b\b\b\b\b\b\b\b\b\b\b\b\b\b\b\b\b\b\b\b\b\b\b\n",
            "Epoch 22/50\n",
            "7879/7879 [==============================] - 1s 121us/step - loss: 0.1033 - acc: 0.9575 - val_loss: 0.2563 - val_acc: 0.9437\b\b\b\b\b\b\b\b\b\b\b\b\b\b\b\b\b\b\b\b\b\b\b\b\b\b\b\b\b\b\b\b\b\b\b\b\b\b\n",
            "Epoch 23/50\n",
            "7879/7879 [==============================] - 1s 119us/step - loss: 0.0988 - acc: 0.9585 - val_loss: 0.2595 - val_acc: 0.9345\b\b\b\b\b\b\b\b\b\b\b\b\b\b\b\b\b\b\b\b\b\b\b\b\b\b\b\b\b\b\b\b\b\b\b\b\b\b\n",
            "Epoch 24/50\n",
            "7879/7879 [==============================] - 1s 118us/step - loss: 0.0954 - acc: 0.9577 - val_loss: 0.2741 - val_acc: 0.9364\b\b\b\b\b\b\b\b\b\b\b\b\b\b\b\b\b\b\b\b\b\b\b\b\b\b\b\b\b\b\b\b\b\b\b\b\b\b\n",
            "Epoch 25/50\n",
            "7879/7879 [==============================] - 1s 117us/step - loss: 0.0957 - acc: 0.9599 - val_loss: 0.2648 - val_acc: 0.9364\b\b\b\b\b\b\b\b\b\b\b\b\b\b\b\b\b\b\b\b\b\b\b\b\b\b\b\b\b\b\b\b\b\b\b\b\b\b\n",
            "Epoch 26/50\n",
            "7879/7879 [==============================] - 1s 110us/step - loss: 0.0916 - acc: 0.9626 - val_loss: 0.2915 - val_acc: 0.9368\b\b\b\b\b\b\b\b\b\b\b\b\b\b\b\b\b\b\b\b\b\b\b\b\b\b\b\b\b\b\b\b\b\b\b\b\b\b\n",
            "Epoch 27/50\n",
            "7879/7879 [==============================] - 1s 114us/step - loss: 0.0880 - acc: 0.9626 - val_loss: 0.2939 - val_acc: 0.9364\b\b\b\b\b\b\b\b\b\b\b\b\b\b\b\b\b\b\b\b\b\b\b\b\b\b\b\b\b\b\b\b\b\b\b\b\b\b\n",
            "Epoch 28/50\n",
            "7879/7879 [==============================] - 1s 105us/step - loss: 0.0880 - acc: 0.9618 - val_loss: 0.3000 - val_acc: 0.9360\b\b\b\b\b\b\b\b\b\b\b\b\b\b\b\b\b\b\b\b\b\b\b\b\b\b\b\b\b\b\b\b\b\b\b\b\b\b\n",
            "Epoch 29/50\n",
            "7879/7879 [==============================] - 1s 108us/step - loss: 0.0856 - acc: 0.9645 - val_loss: 0.3053 - val_acc: 0.9380\b\b\b\b\b\b\b\b\b\b\b\b\b\b\b\b\b\b\b\b\b\b\b\b\b\b\b\b\b\b\b\b\b\b\b\b\b\b\n",
            "Epoch 30/50\n",
            "7879/7879 [==============================] - 1s 111us/step - loss: 0.0881 - acc: 0.9636 - val_loss: 0.3032 - val_acc: 0.9368\b\b\b\b\b\b\b\b\b\b\b\b\b\b\b\b\b\b\b\b\b\b\b\b\b\b\b\b\b\b\b\b\b\b\b\b\b\b\n",
            "Epoch 31/50\n",
            "7879/7879 [==============================] - 1s 107us/step - loss: 0.0822 - acc: 0.9657 - val_loss: 0.3257 - val_acc: 0.9380\b\b\b\b\b\b\b\b\b\b\b\b\b\b\b\b\b\b\b\b\b\b\b\b\b\b\b\b\b\b\b\b\b\b\b\b\b\b\n",
            "Epoch 32/50\n",
            "7879/7879 [==============================] - 1s 115us/step - loss: 0.0836 - acc: 0.9646 - val_loss: 0.3081 - val_acc: 0.9353\b\b\b\b\b\b\b\b\b\b\b\b\b\b\b\b\b\b\b\b\b\b\b\b\b\b\b\b\b\b\b\b\b\b\b\b\b\b\n",
            "Epoch 33/50\n",
            "7879/7879 [==============================] - 1s 104us/step - loss: 0.0773 - acc: 0.9681 - val_loss: 0.3278 - val_acc: 0.9334\b\b\b\b\b\b\b\b\b\b\b\b\b\b\b\b\b\b\b\b\b\b\b\b\b\b\b\b\b\b\b\b\b\b\b\b\b\b\n",
            "Epoch 34/50\n",
            "7879/7879 [==============================] - 1s 108us/step - loss: 0.0773 - acc: 0.9697 - val_loss: 0.3236 - val_acc: 0.9372\b\b\b\b\b\b\b\b\b\b\b\b\b\b\b\b\b\b\b\b\b\b\b\b\b\b\b\b\b\b\b\b\b\b\b\b\b\b\n",
            "Epoch 35/50\n",
            "7879/7879 [==============================] - 1s 106us/step - loss: 0.0788 - acc: 0.9676 - val_loss: 0.3303 - val_acc: 0.9383\b\b\b\b\b\b\b\b\b\b\b\b\b\b\b\b\b\b\b\b\b\b\b\b\b\b\b\b\b\b\b\b\b\b\b\b\b\b\n",
            "Epoch 36/50\n",
            "7879/7879 [==============================] - 1s 109us/step - loss: 0.0790 - acc: 0.9680 - val_loss: 0.3409 - val_acc: 0.9372\b\b\b\b\b\b\b\b\b\b\b\b\b\b\b\b\b\b\b\b\b\b\b\b\b\b\b\b\b\b\b\b\b\b\b\b\b\b\n",
            "Epoch 37/50\n",
            "7879/7879 [==============================] - 1s 110us/step - loss: 0.0763 - acc: 0.9688 - val_loss: 0.3432 - val_acc: 0.9372\b\b\b\b\b\b\b\b\b\b\b\b\b\b\b\b\b\b\b\b\b\b\b\b\b\b\b\b\b\b\b\b\b\b\b\b\b\b\n",
            "Epoch 38/50\n",
            "7879/7879 [==============================] - 1s 107us/step - loss: 0.0727 - acc: 0.9695 - val_loss: 0.3438 - val_acc: 0.9368\b\b\b\b\b\b\b\b\b\b\b\b\b\b\b\b\b\b\b\b\b\b\b\b\b\b\b\b\b\b\b\b\b\b\b\b\b\b\n",
            "Epoch 39/50\n",
            "7879/7879 [==============================] - 1s 108us/step - loss: 0.0775 - acc: 0.9678 - val_loss: 0.3379 - val_acc: 0.9387\b\b\b\b\b\b\b\b\b\b\b\b\b\b\b\b\b\b\b\b\b\b\b\b\b\b\b\b\b\b\b\b\b\b\b\b\b\b\n",
            "Epoch 40/50\n",
            "7879/7879 [==============================] - 1s 108us/step - loss: 0.0702 - acc: 0.9704 - val_loss: 0.3559 - val_acc: 0.9360\b\b\b\b\b\b\b\b\b\b\b\b\b\b\b\b\b\b\b\b\b\b\b\b\b\b\b\b\b\b\b\b\b\b\b\b\b\b\n",
            "Epoch 41/50\n",
            "7879/7879 [==============================] - 1s 109us/step - loss: 0.0691 - acc: 0.9694 - val_loss: 0.3744 - val_acc: 0.9383\b\b\b\b\b\b\b\b\b\b\b\b\b\b\b\b\b\b\b\b\b\b\b\b\b\b\b\b\b\b\b\b\b\b\b\b\b\b\n",
            "Epoch 42/50\n",
            "7879/7879 [==============================] - 1s 108us/step - loss: 0.0656 - acc: 0.9737 - val_loss: 0.3837 - val_acc: 0.9376\b\b\b\b\b\b\b\b\b\b\b\b\b\b\b\b\b\b\b\b\b\b\b\b\b\b\b\b\b\b\b\b\b\b\b\b\b\b\n",
            "Epoch 43/50\n",
            "7879/7879 [==============================] - 1s 115us/step - loss: 0.0708 - acc: 0.9720 - val_loss: 0.3602 - val_acc: 0.9360\b\b\b\b\b\b\b\b\b\b\b\b\b\b\b\b\b\b\b\b\b\b\b\b\b\b\b\b\b\b\b\b\b\b\b\b\b\b\n",
            "Epoch 44/50\n",
            "7879/7879 [==============================] - 1s 121us/step - loss: 0.0687 - acc: 0.9706 - val_loss: 0.3795 - val_acc: 0.9399\b\b\b\b\b\b\b\b\b\b\b\b\b\b\b\b\b\b\b\b\b\b\b\b\b\b\b\b\b\b\b\b\b\b\b\b\b\b\n",
            "Epoch 45/50\n",
            "7879/7879 [==============================] - 1s 104us/step - loss: 0.0672 - acc: 0.9730 - val_loss: 0.3860 - val_acc: 0.9383\b\b\b\b\b\b\b\b\b\b\b\b\b\b\b\b\b\b\b\b\b\b\b\b\b\b\b\b\b\b\b\b\b\b\b\b\b\b\n",
            "Epoch 46/50\n",
            "7879/7879 [==============================] - 1s 106us/step - loss: 0.0670 - acc: 0.9722 - val_loss: 0.3824 - val_acc: 0.9414\b\b\b\b\b\b\b\b\b\b\b\b\b\b\b\b\b\b\b\b\b\b\b\b\b\b\b\b\b\b\b\b\b\b\b\b\b\b\n",
            "Epoch 47/50\n",
            "7879/7879 [==============================] - 1s 114us/step - loss: 0.0674 - acc: 0.9727 - val_loss: 0.3903 - val_acc: 0.9410\b\b\b\b\b\b\b\b\b\b\b\b\b\b\b\b\b\b\b\b\b\b\b\b\b\b\b\b\b\b\b\b\b\b\b\b\b\b\n",
            "Epoch 48/50\n",
            "7879/7879 [==============================] - 1s 114us/step - loss: 0.0661 - acc: 0.9740 - val_loss: 0.3769 - val_acc: 0.9387\b\b\b\b\b\b\b\b\b\b\b\b\b\b\b\b\b\b\b\b\b\b\b\b\b\b\b\b\b\b\b\b\b\b\b\b\b\b\n",
            "Epoch 49/50\n",
            "7879/7879 [==============================] - 1s 109us/step - loss: 0.0673 - acc: 0.9726 - val_loss: 0.3807 - val_acc: 0.9410\b\b\b\b\b\b\b\b\b\b\b\b\b\b\b\b\b\b\b\b\b\b\b\b\b\b\b\b\b\b\b\b\b\b\b\b\b\b\n",
            "Epoch 50/50\n",
            "7879/7879 [==============================] - 1s 109us/step - loss: 0.0625 - acc: 0.9742 - val_loss: 0.4202 - val_acc: 0.9391\b\b\b\b\b\b\b\b\b\b\b\b\b\b\b\b\b\b\b\b\b\b\b\b\b\b\b\b\b\b\b\b\b\b\b\b\b\b\n"
          ]
        },
        {
          "output_type": "execute_result",
          "execution_count": 848,
          "data": {
            "text/plain": [
              "<keras.callbacks.History at 0x1a4fd7b898>"
            ]
          },
          "metadata": {}
        }
      ],
      "execution_count": 848,
      "metadata": {
        "collapsed": false,
        "outputHidden": false,
        "inputHidden": false
      }
    },
    {
      "cell_type": "code",
      "source": [
        "print(roc_auc_score(to_categorical(ytrain),nn.predict_proba(ss.transform(Xtrain))),roc_auc_score(to_categorical(ytest),nn.predict_proba(ss.transform(Xtest))))"
      ],
      "outputs": [
        {
          "output_type": "stream",
          "name": "stdout",
          "text": [
            "0.9904630612773062 0.7628915052317151\n"
          ]
        }
      ],
      "execution_count": 850,
      "metadata": {
        "collapsed": false,
        "outputHidden": false,
        "inputHidden": false
      }
    },
    {
      "cell_type": "code",
      "source": [
        "yhat = nn.predict(ss.transform(Xk))\n",
        "catch = submit(yhat[:,1],'nn_2l_360_48')"
      ],
      "outputs": [],
      "execution_count": 851,
      "metadata": {
        "collapsed": false,
        "outputHidden": false,
        "inputHidden": false
      }
    },
    {
      "cell_type": "code",
      "source": [],
      "outputs": [],
      "execution_count": null,
      "metadata": {
        "collapsed": false,
        "outputHidden": false,
        "inputHidden": false
      }
    }
  ],
  "metadata": {
    "kernel_info": {
      "name": "python3"
    },
    "kernelspec": {
      "name": "python3",
      "language": "python",
      "display_name": "Python 3"
    },
    "language_info": {
      "name": "python",
      "version": "3.6.4",
      "mimetype": "text/x-python",
      "codemirror_mode": {
        "name": "ipython",
        "version": 3
      },
      "pygments_lexer": "ipython3",
      "nbconvert_exporter": "python",
      "file_extension": ".py"
    },
    "nteract": {
      "version": "0.8.4"
    }
  },
  "nbformat": 4,
  "nbformat_minor": 4
}