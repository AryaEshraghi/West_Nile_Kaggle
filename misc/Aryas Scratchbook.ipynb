{
 "cells": [
  {
   "cell_type": "code",
   "execution_count": 1,
   "metadata": {},
   "outputs": [],
   "source": [
    "import pandas as pd\n",
    "import numpy as np\n",
    "import matplotlib.pyplot as plt\n",
    "import seaborn as sns\n",
    "\n",
    "%matplotlib inline"
   ]
  },
  {
   "cell_type": "code",
   "execution_count": 2,
   "metadata": {},
   "outputs": [],
   "source": [
    "df = pd.read_csv('../assets/input/train.csv')\n",
    "weather = pd.read_csv('../assets/input/weather.csv')"
   ]
  },
  {
   "cell_type": "markdown",
   "metadata": {},
   "source": [
    "## Climate Cleaning"
   ]
  },
  {
   "cell_type": "code",
   "execution_count": 3,
   "metadata": {},
   "outputs": [],
   "source": [
    "# Calculate and fill in Tavg using half-up rounding to maintain parity with existing data.\n",
    "weather['Tavg'] = np.ceil(((weather['Tmax'] + weather['Tmin']) / 2) - .4999).astype(int)"
   ]
  },
  {
   "cell_type": "code",
   "execution_count": 4,
   "metadata": {},
   "outputs": [
    {
     "name": "stderr",
     "output_type": "stream",
     "text": [
      "/Users/Arya/anaconda3/envs/dsi/lib/python3.6/site-packages/pandas/core/indexing.py:194: SettingWithCopyWarning: \n",
      "A value is trying to be set on a copy of a slice from a DataFrame\n",
      "\n",
      "See the caveats in the documentation: http://pandas.pydata.org/pandas-docs/stable/indexing.html#indexing-view-versus-copy\n",
      "  self._setitem_with_indexer(indexer, value)\n"
     ]
    }
   ],
   "source": [
    "# If Tavg - Depart is the expected temperature for that day, that calculation can\n",
    "# be used to fill in missing values for Station 2 using data from Station 1.\n",
    "\n",
    "# In order to run the following list on the Depart series, it is necessary to\n",
    "# homogenize the datatypes. By replacing the elements that keep it an object\n",
    "# and casting it as a series of ints, we enable manipulation of the numerics.\n",
    "weather['Depart'].replace('M', None, inplace=True)\n",
    "weather['Depart'] = weather['Depart'].astype(int)\n",
    "\n",
    "# Replace incorrect values for Depart for Station 2 with properly calculated\n",
    "# values from Station 1 on the same days.\n",
    "i = 1\n",
    "while i < len(weather):\n",
    "    normal = weather['Tavg'].iloc[i - 1] - weather['Depart'].iloc[i - 1]\n",
    "    weather['Depart'].iloc[i] = weather['Tavg'].iloc[i] - normal\n",
    "    i += 2\n",
    "    \n",
    "# Think of the RAM and dealloc!\n",
    "del(normal, i)"
   ]
  },
  {
   "cell_type": "code",
   "execution_count": 5,
   "metadata": {},
   "outputs": [
    {
     "name": "stderr",
     "output_type": "stream",
     "text": [
      "/Users/Arya/anaconda3/envs/dsi/lib/python3.6/site-packages/pandas/core/indexing.py:194: SettingWithCopyWarning: \n",
      "A value is trying to be set on a copy of a slice from a DataFrame\n",
      "\n",
      "See the caveats in the documentation: http://pandas.pydata.org/pandas-docs/stable/indexing.html#indexing-view-versus-copy\n",
      "  self._setitem_with_indexer(indexer, value)\n"
     ]
    }
   ],
   "source": [
    "# WetBulb doesn't have a clear way to calculate missing values, however the\n",
    "# discrepencies between Station 1 and 2's measurements are within 2 degrees and\n",
    "# often coincide directly. Since we are already resigned the fact that models\n",
    "# are not perfect emulations of reality, I don't believe it to be unfair to\n",
    "# suggest replacing the four missing values with the counterpart station's\n",
    "# measurement.\n",
    "\n",
    "# Just as with Depart, it is necessary to first homogenize the datatype of the\n",
    "# series in order to manipulate it. First we need the index values of the cells\n",
    "# in question.\n",
    "ixlist = list(weather[weather['WetBulb'] == 'M'].index.values)\n",
    "\n",
    "# Replace 'M's with None and typecast as int.\n",
    "weather['WetBulb'].replace('M', None, inplace=True)\n",
    "weather['WetBulb'] = weather['WetBulb'].astype(int)\n",
    "\n",
    "# Using mod, it is easy to ensure the data is being copied from the correct day.\n",
    "for i in ixlist:\n",
    "    if i % 2 == 0:\n",
    "        weather['WetBulb'].iloc[i] = weather['WetBulb'].iloc[i + 1]\n",
    "    else:\n",
    "        weather['WetBulb'].iloc[i] = weather['WetBulb'].iloc[i - 1]\n",
    "\n",
    "# Liberate your memory!\n",
    "del(ixlist, i)"
   ]
  },
  {
   "cell_type": "code",
   "execution_count": 6,
   "metadata": {},
   "outputs": [
    {
     "name": "stderr",
     "output_type": "stream",
     "text": [
      "/Users/Arya/anaconda3/envs/dsi/lib/python3.6/site-packages/pandas/core/indexing.py:194: SettingWithCopyWarning: \n",
      "A value is trying to be set on a copy of a slice from a DataFrame\n",
      "\n",
      "See the caveats in the documentation: http://pandas.pydata.org/pandas-docs/stable/indexing.html#indexing-view-versus-copy\n",
      "  self._setitem_with_indexer(indexer, value)\n"
     ]
    }
   ],
   "source": [
    "# Heat and Cool are easily computable given that the base value is given at 65.\n",
    "# First things first, replace and typecast:\n",
    "weather['Heat'].replace('M', None, inplace=True)\n",
    "weather['Cool'].replace('M', None, inplace=True)\n",
    "weather['Heat'] = weather['Heat'].astype(int)\n",
    "weather['Cool'] = weather['Cool'].astype(int)\n",
    "\n",
    "# So it turns out that going through all the rows is more time consuming than\n",
    "# anticipated. If you made the mistake of running this cell, go ahead and grab\n",
    "# yourself a coffee.\n",
    "for i in range(len(weather)):\n",
    "    if weather['Tavg'].iloc[i] >= 65:\n",
    "        weather['Heat'].iloc[i] = 0\n",
    "        weather['Cool'].iloc[i] = weather['Tavg'].iloc[i] - 65\n",
    "    else:\n",
    "        weather['Cool'].iloc[i] = 0\n",
    "        weather['Heat'].iloc[i] = 65 - weather['Tavg'].iloc[i]\n",
    "\n",
    "# Leave no RAM unnecessarily allocated\n",
    "del(i)"
   ]
  },
  {
   "cell_type": "code",
   "execution_count": 7,
   "metadata": {},
   "outputs": [
    {
     "name": "stderr",
     "output_type": "stream",
     "text": [
      "/Users/Arya/anaconda3/envs/dsi/lib/python3.6/site-packages/pandas/core/indexing.py:194: SettingWithCopyWarning: \n",
      "A value is trying to be set on a copy of a slice from a DataFrame\n",
      "\n",
      "See the caveats in the documentation: http://pandas.pydata.org/pandas-docs/stable/indexing.html#indexing-view-versus-copy\n",
      "  self._setitem_with_indexer(indexer, value)\n"
     ]
    }
   ],
   "source": [
    "# Sunrise and sunset are caluclated rather than observed and only missing for\n",
    "# one station. Its just a simple transcription job. Replace and typecast:\n",
    "weather['Sunrise'].replace('-', None, inplace = True)\n",
    "weather['Sunset'].replace('-', None, inplace = True)\n",
    "weather['Sunrise'] = weather['Sunrise'].astype(int)\n",
    "weather['Sunset'] = weather['Sunset'].astype(int)\n",
    "\n",
    "# Much like with Depart, we merely need to alter every other row\n",
    "i = 1\n",
    "while i < len(weather):\n",
    "    weather['Sunrise'].iloc[i] = weather['Sunrise'].iloc[i - 1]\n",
    "    weather['Sunset'].iloc[i] = weather['Sunset'].iloc[i - 1]\n",
    "    i += 2\n",
    "\n",
    "# Every little bit helps\n",
    "del(i)"
   ]
  },
  {
   "cell_type": "code",
   "execution_count": 8,
   "metadata": {},
   "outputs": [],
   "source": [
    "# All depth and water values are 0. Since there is no overwriting at play here,\n",
    "# there is no need to replace and typecast before reassigning.\n",
    "weather['Depth'] = 0\n",
    "weather['Water1'] = 0"
   ]
  },
  {
   "cell_type": "code",
   "execution_count": 10,
   "metadata": {},
   "outputs": [
    {
     "name": "stderr",
     "output_type": "stream",
     "text": [
      "/Users/Arya/anaconda3/envs/dsi/lib/python3.6/site-packages/pandas/core/indexing.py:194: SettingWithCopyWarning: \n",
      "A value is trying to be set on a copy of a slice from a DataFrame\n",
      "\n",
      "See the caveats in the documentation: http://pandas.pydata.org/pandas-docs/stable/indexing.html#indexing-view-versus-copy\n",
      "  self._setitem_with_indexer(indexer, value)\n"
     ]
    }
   ],
   "source": [
    "# So far all the replacements made have been justifiable given the data. In the\n",
    "# case of Snowfall, slight liberties will be taken. Namely, 'T', for 'trace'\n",
    "# will be replaced with 0.05 which is half the minimum quantified value in\n",
    "# order to preserve the observation. Station 2 will have its values set to\n",
    "# mirror Station 1. To start, whitespaces must be stripped from the set:\n",
    "weather['SnowFall'] = weather['SnowFall'].str.strip()\n",
    "\n",
    "#Replace and typecast\n",
    "weather['SnowFall'].replace('T', .05, inplace=True)\n",
    "weather['SnowFall'].replace('M', None, inplace=True)\n",
    "weather['SnowFall'] = weather['SnowFall'].astype(float)\n",
    "\n",
    "# Mirror Station 1 values for Station 2\n",
    "i = 1\n",
    "while i < len(weather):\n",
    "    weather['SnowFall'].iloc[i] = weather['SnowFall'].iloc[i - 1]\n",
    "    i += 2\n",
    "\n",
    "# Dust to dust\n",
    "del(i)"
   ]
  },
  {
   "cell_type": "code",
   "execution_count": 22,
   "metadata": {},
   "outputs": [],
   "source": [
    "# Most of the non-numeric values in the PrecipTotal category are 'T' values,\n",
    "# which we can again replace with half the minimum quantity to preserve the\n",
    "# measurement. The two 'M' values, can be set to 0 to mirror the other stations\n",
    "# measurement for that day.\n",
    "weather['PrecipTotal'] = weather['PrecipTotal'].str.strip()\n",
    "weather['PrecipTotal'].replace('T', .05, inplace=True)\n",
    "weather['PrecipTotal'].replace('M', 0.0, inplace=True)\n",
    "weather['PrecipTotal'] = weather['PrecipTotal'].astype(float)"
   ]
  },
  {
   "cell_type": "code",
   "execution_count": 46,
   "metadata": {},
   "outputs": [
    {
     "name": "stderr",
     "output_type": "stream",
     "text": [
      "/Users/Arya/anaconda3/envs/dsi/lib/python3.6/site-packages/pandas/core/indexing.py:194: SettingWithCopyWarning: \n",
      "A value is trying to be set on a copy of a slice from a DataFrame\n",
      "\n",
      "See the caveats in the documentation: http://pandas.pydata.org/pandas-docs/stable/indexing.html#indexing-view-versus-copy\n",
      "  self._setitem_with_indexer(indexer, value)\n"
     ]
    }
   ],
   "source": [
    "# StnPressure puts us in an awkward spot. On average, Station 1's pressure is\n",
    "# .05 to .10 lower than Station 2's, but as far as I know we do not have enough\n",
    "# information to calculate it precisely. Furthermore on 8/10/13, both stations\n",
    "# are missing their measurements. To fill in the the 'M' values, we can add or\n",
    "# subtract in the given range from the other stations value to approximate a\n",
    "# likely value. For the other 'M' values, using a boolean mask I found what\n",
    "# other days had similar conditions and will base my numbers off of those.\n",
    "\n",
    "# Replace and typecast\n",
    "weather['StnPressure'].replace('M', None, inplace=True)\n",
    "weather['StnPressure'] = weather['StnPressure'].astype(float)\n",
    "\n",
    "weather['StnPressure'].iloc[87] = weather['StnPressure'].iloc[86] + .06\n",
    "weather['StnPressure'].iloc[848] = weather['StnPressure'].iloc[849] - .07\n",
    "# Value based on the day with the most similar conditions\n",
    "weather['StnPressure'].iloc[2411] = weather['StnPressure'].iloc[2763]\n",
    "weather['StnPressure'].iloc[2410] = weather['StnPressure'].iloc[2411] - .06"
   ]
  },
  {
   "cell_type": "code",
   "execution_count": 52,
   "metadata": {},
   "outputs": [
    {
     "name": "stderr",
     "output_type": "stream",
     "text": [
      "/Users/Arya/anaconda3/envs/dsi/lib/python3.6/site-packages/pandas/core/indexing.py:194: SettingWithCopyWarning: \n",
      "A value is trying to be set on a copy of a slice from a DataFrame\n",
      "\n",
      "See the caveats in the documentation: http://pandas.pydata.org/pandas-docs/stable/indexing.html#indexing-view-versus-copy\n",
      "  self._setitem_with_indexer(indexer, value)\n"
     ]
    }
   ],
   "source": [
    "# SeaLevel measurements tend to vary between stations by +/- .02. None of the\n",
    "# missing values occur in contiguous rows, so we can simply set missing values\n",
    "# equal to the other station measurement which will be good enough.\n",
    "\n",
    "# Generate list of index values where SeaLevel measurements are missing\n",
    "ixlist = list(weather[weather['SeaLevel'] == 'M'].index.values)\n",
    "\n",
    "# Replace 'M's with None and typecast as float.\n",
    "weather['SeaLevel'].replace('M', None, inplace=True)\n",
    "weather['SeaLevel'] = weather['SeaLevel'].astype(float)\n",
    "\n",
    "# Using mod, as we did with WetBulb\n",
    "for i in ixlist:\n",
    "    if i % 2 == 0:\n",
    "        weather['SeaLevel'].iloc[i] = weather['SeaLevel'].iloc[i + 1]\n",
    "    else:\n",
    "        weather['SeaLevel'].iloc[i] = weather['SeaLevel'].iloc[i - 1]\n",
    "\n",
    "# Guillotine the bourgeoisie RAM hoarders\n",
    "del(ixlist, i)"
   ]
  },
  {
   "cell_type": "code",
   "execution_count": 62,
   "metadata": {},
   "outputs": [
    {
     "name": "stderr",
     "output_type": "stream",
     "text": [
      "/Users/Arya/anaconda3/envs/dsi/lib/python3.6/site-packages/pandas/core/indexing.py:194: SettingWithCopyWarning: \n",
      "A value is trying to be set on a copy of a slice from a DataFrame\n",
      "\n",
      "See the caveats in the documentation: http://pandas.pydata.org/pandas-docs/stable/indexing.html#indexing-view-versus-copy\n",
      "  self._setitem_with_indexer(indexer, value)\n"
     ]
    }
   ],
   "source": [
    "# The variance between station measurements of AvgSpeed can be quite large.\n",
    "# On the plus side, there are only three missing values in this category. To\n",
    "# generate predictions for these missing values, we can measure the difference\n",
    "# in ResultSpeed between the two stations and apply that difference to the\n",
    "# measurement of AvgSpeed and call it good enough.\n",
    "\n",
    "ixlist = list(weather[weather['AvgSpeed'] == 'M'].index.values)\n",
    "\n",
    "# Replace 'M's with None and typecast as float.\n",
    "weather['AvgSpeed'].replace('M', None, inplace=True)\n",
    "weather['AvgSpeed'] = weather['AvgSpeed'].astype(float)\n",
    "\n",
    "# All missing values are for Station 2 measurements.\n",
    "for i in ixlist:\n",
    "    diff = weather['ResultSpeed'].iloc[i - 1] - weather['ResultSpeed'].iloc[i]\n",
    "    weather['AvgSpeed'].iloc[i] = weather['AvgSpeed'].iloc[i - 1] - diff\n",
    "\n",
    "# The new Purge film continues the trend of being less compelling than the last\n",
    "del(ixlist, diff, i)"
   ]
  },
  {
   "cell_type": "code",
   "execution_count": 150,
   "metadata": {},
   "outputs": [],
   "source": [
    "# Mapping the codes in CodeSum into binary categorical columns.\n",
    "weather['Thunderstorm'] = np.where(weather[['CodeSum']].apply(\n",
    "    lambda x: x.str.contains(r'TS')).any(1), '1', '0')\n",
    "weather['Rain'] = np.where(weather[['CodeSum']].apply(\n",
    "    lambda x: x.str.contains(r'RA')).any(1), '1', '0')\n",
    "weather['Drizzle'] = np.where(weather[['CodeSum']].apply(\n",
    "    lambda x: x.str.contains(r'DZ')).any(1), '1', '0')\n",
    "weather['Snow'] = np.where(weather[['CodeSum']].apply(\n",
    "    lambda x: x.str.contains(r'SN')).any(1), '1', '0')\n",
    "weather['Fog'] = np.where(weather[['CodeSum']].apply(\n",
    "    lambda x: x.str.contains(r'FG')).any(1), '1', '0')\n",
    "weather['Mist'] = np.where(weather[['CodeSum']].apply(\n",
    "    lambda x: x.str.contains(r'BR')).any(1), '1', '0')\n",
    "weather['Haze'] = np.where(weather[['CodeSum']].apply(\n",
    "    lambda x: x.str.contains(r'HZ')).any(1), '1', '0')\n",
    "weather['Smoke'] = np.where(weather[['CodeSum']].apply(\n",
    "    lambda x: x.str.contains(r'FU')).any(1), '1', '0')\n",
    "\n",
    "# Typecast newly created encoded columns as numeric\n",
    "weather[['Thunderstorm', 'Rain', 'Drizzle', 'Snow', 'Fog', 'Mist', 'Haze',\n",
    "         'Smoke']] = weather[['Thunderstorm', 'Rain', 'Drizzle', 'Snow', 'Fog',\n",
    "                              'Mist', 'Haze', 'Smoke']].apply(pd.to_numeric)"
   ]
  },
  {
   "cell_type": "code",
   "execution_count": 163,
   "metadata": {},
   "outputs": [],
   "source": [
    "# Export to csv\n",
    "weather.to_csv('../assets/input/clean_weather.csv')"
   ]
  },
  {
   "cell_type": "code",
   "execution_count": null,
   "metadata": {},
   "outputs": [],
   "source": []
  }
 ],
 "metadata": {
  "kernelspec": {
   "display_name": "Python 3",
   "language": "python",
   "name": "python3"
  },
  "language_info": {
   "codemirror_mode": {
    "name": "ipython",
    "version": 3
   },
   "file_extension": ".py",
   "mimetype": "text/x-python",
   "name": "python",
   "nbconvert_exporter": "python",
   "pygments_lexer": "ipython3",
   "version": "3.6.5"
  },
  "varInspector": {
   "cols": {
    "lenName": 16,
    "lenType": 16,
    "lenVar": 40
   },
   "kernels_config": {
    "python": {
     "delete_cmd_postfix": "",
     "delete_cmd_prefix": "del ",
     "library": "var_list.py",
     "varRefreshCmd": "print(var_dic_list())"
    },
    "r": {
     "delete_cmd_postfix": ") ",
     "delete_cmd_prefix": "rm(",
     "library": "var_list.r",
     "varRefreshCmd": "cat(var_dic_list()) "
    }
   },
   "types_to_exclude": [
    "module",
    "function",
    "builtin_function_or_method",
    "instance",
    "_Feature"
   ],
   "window_display": false
  }
 },
 "nbformat": 4,
 "nbformat_minor": 2
}
